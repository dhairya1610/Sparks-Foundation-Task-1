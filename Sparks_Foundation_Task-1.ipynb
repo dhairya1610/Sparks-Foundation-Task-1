{
 "cells": [
  {
   "cell_type": "markdown",
   "id": "neither-pointer",
   "metadata": {},
   "source": [
    "# The Sparks Foundation\n",
    "# Subject : Data Science & Business Analytics\n",
    "# Name : Darshil Vora"
   ]
  },
  {
   "cell_type": "markdown",
   "id": "harmful-sheffield",
   "metadata": {},
   "source": [
    "# Importing required libraries"
   ]
  },
  {
   "cell_type": "code",
   "execution_count": 10,
   "id": "sound-frost",
   "metadata": {},
   "outputs": [],
   "source": [
    "import numpy as np\n",
    "import pandas as pd\n",
    "import matplotlib.pyplot as plt\n",
    "from sklearn.model_selection import train_test_split\n",
    "from sklearn.linear_model import LinearRegression"
   ]
  },
  {
   "cell_type": "markdown",
   "id": "vital-association",
   "metadata": {},
   "source": [
    "# Getting the dataset"
   ]
  },
  {
   "cell_type": "code",
   "execution_count": 4,
   "id": "hindu-thumbnail",
   "metadata": {},
   "outputs": [
    {
     "name": "stdout",
     "output_type": "stream",
     "text": [
      "    Hours  Scores\n",
      "0     2.5      21\n",
      "1     5.1      47\n",
      "2     3.2      27\n",
      "3     8.5      75\n",
      "4     3.5      30\n",
      "5     1.5      20\n",
      "6     9.2      88\n",
      "7     5.5      60\n",
      "8     8.3      81\n",
      "9     2.7      25\n",
      "10    7.7      85\n",
      "11    5.9      62\n",
      "12    4.5      41\n",
      "13    3.3      42\n",
      "14    1.1      17\n",
      "15    8.9      95\n",
      "16    2.5      30\n",
      "17    1.9      24\n",
      "18    6.1      67\n",
      "19    7.4      69\n",
      "20    2.7      30\n",
      "21    4.8      54\n",
      "22    3.8      35\n",
      "23    6.9      76\n",
      "24    7.8      86\n"
     ]
    }
   ],
   "source": [
    "frame = pd.read_csv('student_scores - student_scores.csv')\n",
    "print(frame)"
   ]
  },
  {
   "cell_type": "markdown",
   "id": "processed-raising",
   "metadata": {},
   "source": [
    "# Data Visualization"
   ]
  },
  {
   "cell_type": "code",
   "execution_count": 11,
   "id": "julian-halloween",
   "metadata": {},
   "outputs": [
    {
     "data": {
      "image/png": "[encoded data removed]",
      "text/plain": [
       "<Figure size 432x288 with 1 Axes>"
      ]
     },
     "metadata": {
      "needs_background": "light"
     },
     "output_type": "display_data"
    }
   ],
   "source": [
    "frame.plot(x = 'Hours' , y = 'Scores' , style = '+')\n",
    "plt.title('Hours vs Scores')\n",
    "plt.xlabel('Study Hours')\n",
    "plt.ylabel('Scores')\n",
    "plt.show()"
   ]
  },
  {
   "cell_type": "markdown",
   "id": "nominated-latino",
   "metadata": {},
   "source": [
    "# Classification between dependent and independent data"
   ]
  },
  {
   "cell_type": "code",
   "execution_count": 12,
   "id": "assigned-estonia",
   "metadata": {},
   "outputs": [],
   "source": [
    "x=frame.iloc[:,0:-1].values\n",
    "y=frame.iloc[:,-1].values"
   ]
  },
  {
   "cell_type": "markdown",
   "id": "adverse-sucking",
   "metadata": {},
   "source": [
    "# Splitting data between testing and training"
   ]
  },
  {
   "cell_type": "code",
   "execution_count": 13,
   "id": "established-payment",
   "metadata": {},
   "outputs": [],
   "source": [
    "x_train,x_test,y_train,y_test=train_test_split(x,y,test_size=0.2,random_state=0)"
   ]
  },
  {
   "cell_type": "markdown",
   "id": "automatic-composite",
   "metadata": {},
   "source": [
    "# Fit our trained data in the model to perform linear regression"
   ]
  },
  {
   "cell_type": "code",
   "execution_count": 14,
   "id": "posted-pricing",
   "metadata": {},
   "outputs": [
    {
     "data": {
      "text/plain": [
       "LinearRegression()"
      ]
     },
     "execution_count": 14,
     "metadata": {},
     "output_type": "execute_result"
    }
   ],
   "source": [
    "reg=LinearRegression()\n",
    "reg.fit(x_train,y_train)"
   ]
  },
  {
   "cell_type": "markdown",
   "id": "radical-organization",
   "metadata": {},
   "source": [
    "# Making graph of our linear regression model"
   ]
  },
  {
   "cell_type": "code",
   "execution_count": 16,
   "id": "several-spread",
   "metadata": {},
   "outputs": [
    {
     "data": {
      "image/png": "[encoded data removed]",
      "text/plain": [
       "<Figure size 432x288 with 1 Axes>"
      ]
     },
     "metadata": {
      "needs_background": "light"
     },
     "output_type": "display_data"
    }
   ],
   "source": [
    "line = reg.coef_*x+reg.intercept_      # to draw regression line\n",
    "plt.scatter(x,y)\n",
    "plt.plot(x , line , color = 'red')     # assigning color to regression line\n",
    "plt.title('Regression line for testing Dataset')\n",
    "plt.xlabel('Study Hours')\n",
    "plt.ylabel('scores')\n",
    "plt.show()"
   ]
  },
  {
   "cell_type": "markdown",
   "id": "posted-metadata",
   "metadata": {},
   "source": [
    "# Checking the accuracy of model"
   ]
  },
  {
   "cell_type": "code",
   "execution_count": 17,
   "id": "deadly-indian",
   "metadata": {},
   "outputs": [
    {
     "name": "stdout",
     "output_type": "stream",
     "text": [
      "[[1.5]\n",
      " [3.2]\n",
      " [7.4]\n",
      " [2.5]\n",
      " [5.9]]\n",
      "[16.88414476 33.73226078 75.357018   26.79480124 60.49103328]\n"
     ]
    }
   ],
   "source": [
    "y_pred = reg.predict(x_test)        # checking between x_test and y_pred values\n",
    "print(x_test)\n",
    "print(y_pred)"
   ]
  },
  {
   "cell_type": "markdown",
   "id": "black-failing",
   "metadata": {},
   "source": [
    "# Comparision between actual and predicted values"
   ]
  },
  {
   "cell_type": "code",
   "execution_count": 19,
   "id": "robust-suicide",
   "metadata": {},
   "outputs": [
    {
     "data": {
      "text/html": [
       "<div>\n",
       "<style scoped>\n",
       "    .dataframe tbody tr th:only-of-type {\n",
       "        vertical-align: middle;\n",
       "    }\n",
       "\n",
       "    .dataframe tbody tr th {\n",
       "        vertical-align: top;\n",
       "    }\n",
       "\n",
       "    .dataframe thead th {\n",
       "        text-align: right;\n",
       "    }\n",
       "</style>\n",
       "<table border=\"1\" class=\"dataframe\">\n",
       "  <thead>\n",
       "    <tr style=\"text-align: right;\">\n",
       "      <th></th>\n",
       "      <th>Actual Values</th>\n",
       "      <th>Predicted Values</th>\n",
       "    </tr>\n",
       "  </thead>\n",
       "  <tbody>\n",
       "    <tr>\n",
       "      <th>0</th>\n",
       "      <td>20</td>\n",
       "      <td>16.884145</td>\n",
       "    </tr>\n",
       "    <tr>\n",
       "      <th>1</th>\n",
       "      <td>27</td>\n",
       "      <td>33.732261</td>\n",
       "    </tr>\n",
       "    <tr>\n",
       "      <th>2</th>\n",
       "      <td>69</td>\n",
       "      <td>75.357018</td>\n",
       "    </tr>\n",
       "    <tr>\n",
       "      <th>3</th>\n",
       "      <td>30</td>\n",
       "      <td>26.794801</td>\n",
       "    </tr>\n",
       "    <tr>\n",
       "      <th>4</th>\n",
       "      <td>62</td>\n",
       "      <td>60.491033</td>\n",
       "    </tr>\n",
       "  </tbody>\n",
       "</table>\n",
       "</div>"
      ],
      "text/plain": [
       "   Actual Values  Predicted Values\n",
       "0             20         16.884145\n",
       "1             27         33.732261\n",
       "2             69         75.357018\n",
       "3             30         26.794801\n",
       "4             62         60.491033"
      ]
     },
     "execution_count": 19,
     "metadata": {},
     "output_type": "execute_result"
    }
   ],
   "source": [
    "df = pd.DataFrame({'Actual Values' : y_test , 'Predicted Values' : y_pred})\n",
    "df"
   ]
  },
  {
   "cell_type": "markdown",
   "id": "least-backup",
   "metadata": {},
   "source": [
    "# Evaluation of testing and training accuracy score"
   ]
  },
  {
   "cell_type": "code",
   "execution_count": 20,
   "id": "assisted-weight",
   "metadata": {},
   "outputs": [
    {
     "name": "stdout",
     "output_type": "stream",
     "text": [
      "Accuracy score of Training Dataset: 0.9515510725211552\n",
      "Accuracy score of Testing Dataset: 0.9454906892105355\n"
     ]
    }
   ],
   "source": [
    "print('Accuracy score of Training Dataset:' , reg.score(x_train,y_train))\n",
    "print('Accuracy score of Testing Dataset:' , reg.score(x_test,y_test))"
   ]
  },
  {
   "cell_type": "markdown",
   "id": "subsequent-lawrence",
   "metadata": {},
   "source": [
    "# Bar-Graph of actual and predicted values"
   ]
  },
  {
   "cell_type": "code",
   "execution_count": 21,
   "id": "crude-ready",
   "metadata": {},
   "outputs": [
    {
     "data": {
      "image/png": "[encoded data removed]",
      "text/plain": [
       "<Figure size 576x576 with 1 Axes>"
      ]
     },
     "metadata": {
      "needs_background": "light"
     },
     "output_type": "display_data"
    }
   ],
   "source": [
    "df.plot(kind = 'bar' , figsize = (8,8))\n",
    "plt.show()"
   ]
  },
  {
   "cell_type": "markdown",
   "id": "disturbed-testimony",
   "metadata": {},
   "source": [
    "# User input for prediction"
   ]
  },
  {
   "cell_type": "code",
   "execution_count": 22,
   "id": "interracial-lighter",
   "metadata": {},
   "outputs": [
    {
     "name": "stdin",
     "output_type": "stream",
     "text": [
      "Enter No. of study hours: 9\n"
     ]
    },
    {
     "name": "stdout",
     "output_type": "stream",
     "text": [
      "Study hours are : 9.0\n",
      "Estimated Score is : 91.2140683672148\n"
     ]
    }
   ],
   "source": [
    "num_of_hours = float(input('Enter No. of study hours:'))\n",
    "res = np.array([num_of_hours])\n",
    "res = res.reshape(-1 , 1)\n",
    "prediction = reg.predict(res)\n",
    "\n",
    "print('Study hours are : {}'.format(num_of_hours))\n",
    "print('Estimated Score is : {}'.format(prediction[0]))"
   ]
  },
  {
   "cell_type": "markdown",
   "id": "undefined-anxiety",
   "metadata": {},
   "source": [
    "# Model accuracy by evaluating algorithm efficiency"
   ]
  },
  {
   "cell_type": "code",
   "execution_count": 23,
   "id": "national-river",
   "metadata": {},
   "outputs": [],
   "source": [
    "from sklearn import metrics"
   ]
  },
  {
   "cell_type": "code",
   "execution_count": 24,
   "id": "south-maintenance",
   "metadata": {},
   "outputs": [
    {
     "name": "stdout",
     "output_type": "stream",
     "text": [
      "Mean squared error is: 21.598769307217406\n"
     ]
    }
   ],
   "source": [
    "print('Mean squared error is:' , metrics.mean_squared_error(y_test , y_pred))"
   ]
  },
  {
   "cell_type": "code",
   "execution_count": 25,
   "id": "weekly-rainbow",
   "metadata": {},
   "outputs": [
    {
     "name": "stdout",
     "output_type": "stream",
     "text": [
      "R2 score is: 0.9454906892105355\n"
     ]
    }
   ],
   "source": [
    "print('R2 score is:' , metrics.r2_score(y_test , y_pred))"
   ]
  },
  {
   "cell_type": "code",
   "execution_count": 26,
   "id": "scientific-ordinary",
   "metadata": {},
   "outputs": [
    {
     "name": "stdout",
     "output_type": "stream",
     "text": [
      "Mean Absolute Error of model is: 4.183859899002975\n"
     ]
    }
   ],
   "source": [
    "print('Mean Absolute Error of model is:' , metrics.mean_absolute_error(y_test , y_pred))"
   ]
  },
  {
   "cell_type": "code",
   "execution_count": 27,
   "id": "eight-functionality",
   "metadata": {},
   "outputs": [
    {
     "name": "stdout",
     "output_type": "stream",
     "text": [
      "Root Mean Squared Error of the model is: 4.647447612100367\n"
     ]
    }
   ],
   "source": [
    "print('Root Mean Squared Error of the model is:' , np.sqrt(metrics.mean_squared_error(y_test , y_pred)))"
   ]
  },
  {
   "cell_type": "markdown",
   "id": "english-strip",
   "metadata": {},
   "source": [
    "# Conclusion:\n",
    "# Here we have predicted the percentage of a student based on study hours using Linear Regression model because there is only # one independent variable "
   ]
  },
  {
   "cell_type": "markdown",
   "id": "sound-turning",
   "metadata": {},
   "source": [
    "# Thank you"
   ]
  },
  {
   "cell_type": "code",
   "execution_count": null,
   "id": "renewable-complex",
   "metadata": {},
   "outputs": [],
   "source": []
  }
 ],
 "metadata": {
  "kernelspec": {
   "display_name": "Python 3",
   "language": "python",
   "name": "python3"
  },
  "language_info": {
   "codemirror_mode": {
    "name": "ipython",
    "version": 3
   },
   "file_extension": ".py",
   "mimetype": "text/x-python",
   "name": "python",
   "nbconvert_exporter": "python",
   "pygments_lexer": "ipython3",
   "version": "3.9.1"
  }
 },
 "nbformat": 4,
 "nbformat_minor": 5
}
